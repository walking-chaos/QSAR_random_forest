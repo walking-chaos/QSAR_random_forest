{
 "cells": [
  {
   "cell_type": "code",
   "execution_count": 36,
   "id": "consolidated-angola",
   "metadata": {},
   "outputs": [],
   "source": [
    "import pandas as pd\n",
    "import numpy as np\n",
    "from sklearn.model_selection import train_test_split\n",
    "from rdkit import Chem \n",
    "from rdkit.Chem import rdFingerprintGenerator\n",
    "from sklearn.ensemble import RandomForestClassifier\n",
    "from sklearn.model_selection import GridSearchCV, RandomizedSearchCV\n",
    "from sklearn.metrics import plot_confusion_matrix, precision_score, recall_score,f1_score\n",
    "import joblib"
   ]
  },
  {
   "cell_type": "markdown",
   "id": "hazardous-humor",
   "metadata": {},
   "source": [
    "### Loading Data\n",
    "Your data should be loaded as .csv file containing such features as \"Chemble_id\", \"Smiles\", \"Bioactivity class\" (1 for active, 0 for inactive ligands).\n",
    "\n"
   ]
  },
  {
   "cell_type": "code",
   "execution_count": 4,
   "id": "wrapped-librarian",
   "metadata": {
    "scrolled": true
   },
   "outputs": [
    {
     "data": {
      "text/html": [
       "<div>\n",
       "<style scoped>\n",
       "    .dataframe tbody tr th:only-of-type {\n",
       "        vertical-align: middle;\n",
       "    }\n",
       "\n",
       "    .dataframe tbody tr th {\n",
       "        vertical-align: top;\n",
       "    }\n",
       "\n",
       "    .dataframe thead th {\n",
       "        text-align: right;\n",
       "    }\n",
       "</style>\n",
       "<table border=\"1\" class=\"dataframe\">\n",
       "  <thead>\n",
       "    <tr style=\"text-align: right;\">\n",
       "      <th></th>\n",
       "      <th>molecule_chembl_id</th>\n",
       "      <th>Smiles</th>\n",
       "      <th>pIC50</th>\n",
       "      <th>bioactivity_class</th>\n",
       "    </tr>\n",
       "  </thead>\n",
       "  <tbody>\n",
       "    <tr>\n",
       "      <th>0</th>\n",
       "      <td>CHEMBL3404003</td>\n",
       "      <td>COCCCOc1cc(C(=O)N(C[C@@H]2CNC[C@H]2OC(=O)N(C)C...</td>\n",
       "      <td>7.523</td>\n",
       "      <td>1</td>\n",
       "    </tr>\n",
       "    <tr>\n",
       "      <th>1</th>\n",
       "      <td>CHEMBL3403999</td>\n",
       "      <td>COCCCOc1cc(C(=O)N(C[C@@H]2CNC[C@H]2OC(=O)NCc2c...</td>\n",
       "      <td>7.046</td>\n",
       "      <td>1</td>\n",
       "    </tr>\n",
       "    <tr>\n",
       "      <th>2</th>\n",
       "      <td>CHEMBL4109808</td>\n",
       "      <td>COCCCOc1ccc([C@@H](C)N(C(=O)[C@H]2CNCCO2)C2CC2...</td>\n",
       "      <td>7.469</td>\n",
       "      <td>1</td>\n",
       "    </tr>\n",
       "    <tr>\n",
       "      <th>3</th>\n",
       "      <td>CHEMBL557193</td>\n",
       "      <td>CCCCNC(=O)[C@H](C)C[C@H](O)[C@@H](N)C[C@H](Cc1...</td>\n",
       "      <td>9.000</td>\n",
       "      <td>1</td>\n",
       "    </tr>\n",
       "    <tr>\n",
       "      <th>4</th>\n",
       "      <td>CHEMBL4114302</td>\n",
       "      <td>COC(=O)NCCCn1nc([C@@H](C)N(C(=O)[C@H]2CNCCO2)C...</td>\n",
       "      <td>8.444</td>\n",
       "      <td>1</td>\n",
       "    </tr>\n",
       "  </tbody>\n",
       "</table>\n",
       "</div>"
      ],
      "text/plain": [
       "  molecule_chembl_id                                             Smiles  \\\n",
       "0      CHEMBL3404003  COCCCOc1cc(C(=O)N(C[C@@H]2CNC[C@H]2OC(=O)N(C)C...   \n",
       "1      CHEMBL3403999  COCCCOc1cc(C(=O)N(C[C@@H]2CNC[C@H]2OC(=O)NCc2c...   \n",
       "2      CHEMBL4109808  COCCCOc1ccc([C@@H](C)N(C(=O)[C@H]2CNCCO2)C2CC2...   \n",
       "3       CHEMBL557193  CCCCNC(=O)[C@H](C)C[C@H](O)[C@@H](N)C[C@H](Cc1...   \n",
       "4      CHEMBL4114302  COC(=O)NCCCn1nc([C@@H](C)N(C(=O)[C@H]2CNCCO2)C...   \n",
       "\n",
       "   pIC50  bioactivity_class  \n",
       "0  7.523                  1  \n",
       "1  7.046                  1  \n",
       "2  7.469                  1  \n",
       "3  9.000                  1  \n",
       "4  8.444                  1  "
      ]
     },
     "execution_count": 4,
     "metadata": {},
     "output_type": "execute_result"
    }
   ],
   "source": [
    "data_train = pd.read_csv('data_train.csv')\n",
    "data_train.head()"
   ]
  },
  {
   "cell_type": "markdown",
   "id": "liquid-opera",
   "metadata": {},
   "source": [
    "### Creating np.array from bioactivity classes of your ligands"
   ]
  },
  {
   "cell_type": "code",
   "execution_count": 5,
   "id": "inclusive-wound",
   "metadata": {},
   "outputs": [],
   "source": [
    "bioactivity = data_train[['bioactivity_class']]\n",
    "bioactivity = np.array(bioactivity)\n",
    "bioactivity = bioactivity.flatten()"
   ]
  },
  {
   "cell_type": "markdown",
   "id": "russian-transsexual",
   "metadata": {},
   "source": [
    "### Creating np.array from fingerprints of your ligands"
   ]
  },
  {
   "cell_type": "code",
   "execution_count": 6,
   "id": "excess-external",
   "metadata": {},
   "outputs": [],
   "source": [
    "compounds = []\n",
    "for _, chembl_id, smile in data_train[['molecule_chembl_id', 'Smiles']].itertuples():\n",
    "    compounds.append((Chem.MolFromSmiles(smile), chembl_id))\n",
    "rdkit_gen = rdFingerprintGenerator.GetRDKitFPGenerator(maxPath=5)\n",
    "fingerprints = [rdkit_gen.GetFingerprint(mol) for mol, indx in compounds]\n",
    "fingerprints = np.array(fingerprints)"
   ]
  },
  {
   "cell_type": "markdown",
   "id": "corrected-tsunami",
   "metadata": {},
   "source": [
    "### Spliting database into train and test datasets\n",
    "You can change test_size parameter, if you want your test dataset to be bigger or smaller."
   ]
  },
  {
   "cell_type": "code",
   "execution_count": 8,
   "id": "hawaiian-calculator",
   "metadata": {
    "scrolled": true
   },
   "outputs": [],
   "source": [
    "fingerprints_train, fingerprints_test, bioactivity_train, bioactivity_test = train_test_split(fingerprints, bioactivity, test_size = 0.3)"
   ]
  },
  {
   "cell_type": "markdown",
   "id": "artistic-rebel",
   "metadata": {},
   "source": [
    "### Creating RandomForestClassifier\n",
    "This step creates random forest classifier using GridSearchCV or RandomizedSearchCV (you can choose how to search optimal parameters). You can change search hyperparameters if you want to. "
   ]
  },
  {
   "cell_type": "code",
   "execution_count": 31,
   "id": "synthetic-preservation",
   "metadata": {
    "scrolled": true
   },
   "outputs": [],
   "source": [
    "clf_rf = RandomForestClassifier()\n",
    "parameters = {'n_estimators' : range(10,50), \n",
    "              'max_depth' : range(3,200), 'min_samples_split' : range(3,20)}\n",
    "randomized_search_cv_clf_rf = RandomizedSearchCV(clf_rf, parameters, cv=5)"
   ]
  },
  {
   "cell_type": "code",
   "execution_count": null,
   "id": "latter-hollywood",
   "metadata": {},
   "outputs": [],
   "source": [
    "clf_rf = RandomForestClassifier()\n",
    "parameters = {'n_estimators' : range(10,20), \n",
    "              'max_depth' : range(3,30), 'min_samples_split' : range(5,30)}\n",
    "grid_search_cv_clf_rf = GridSearchCV(clf_rf, parameters, cv=5)"
   ]
  },
  {
   "cell_type": "markdown",
   "id": "macro-arrangement",
   "metadata": {},
   "source": [
    "### Fitting your data into model"
   ]
  },
  {
   "cell_type": "code",
   "execution_count": 32,
   "id": "metric-cheat",
   "metadata": {},
   "outputs": [
    {
     "data": {
      "text/plain": [
       "RandomizedSearchCV(cv=5, estimator=RandomForestClassifier(),\n",
       "                   param_distributions={'max_depth': range(3, 200),\n",
       "                                        'min_samples_split': range(3, 20),\n",
       "                                        'n_estimators': range(10, 50)})"
      ]
     },
     "execution_count": 32,
     "metadata": {},
     "output_type": "execute_result"
    }
   ],
   "source": [
    "randomized_search_cv_clf_rf.fit(fingerprints_train, bioactivity_train)"
   ]
  },
  {
   "cell_type": "code",
   "execution_count": null,
   "id": "cheap-texture",
   "metadata": {},
   "outputs": [],
   "source": [
    "grid_search_cv_clf_rf.fit(fingerprints_train, bioactivity_train)"
   ]
  },
  {
   "cell_type": "markdown",
   "id": "missing-montgomery",
   "metadata": {},
   "source": [
    "### Saving best model"
   ]
  },
  {
   "cell_type": "code",
   "execution_count": 33,
   "id": "automotive-fortune",
   "metadata": {},
   "outputs": [],
   "source": [
    "best_model = randomized_search_cv_clf_rf.best_estimator_"
   ]
  },
  {
   "cell_type": "code",
   "execution_count": null,
   "id": "nasty-creativity",
   "metadata": {},
   "outputs": [],
   "source": [
    "best_model = grid_search_cv_clf_rf.best_estimator_"
   ]
  },
  {
   "cell_type": "markdown",
   "id": "silver-operation",
   "metadata": {},
   "source": [
    "### Getting model metrics for test dataset"
   ]
  },
  {
   "cell_type": "code",
   "execution_count": 34,
   "id": "agricultural-tsunami",
   "metadata": {},
   "outputs": [
    {
     "name": "stdout",
     "output_type": "stream",
     "text": [
      "Accuracy: 0.9269406392694064 \n",
      "Precision score: 0.9397394136807817 \n",
      "Recall score: 0.9812925170068028 \n",
      "F1-score: 0.9600665557404325\n"
     ]
    }
   ],
   "source": [
    "accuracy = best_model.score(fingerprints_test, bioactivity_test)\n",
    "bioactivity_test_predicted = best_model.predict(fingerprints_test)\n",
    "precision = precision_score(bioactivity_test, bioactivity_test_predicted)\n",
    "recall = recall_score(bioactivity_test, bioactivity_test_predicted)\n",
    "f1score = f1_score(bioactivity_test, bioactivity_test_predicted)\n",
    "print('Accuracy: {0} \\nPrecision score: {1} \\nRecall score: {2} \\nF1-score: {3}'\\\n",
    "          .format(accuracy, precision, recall, f1score))"
   ]
  },
  {
   "cell_type": "markdown",
   "id": "level-input",
   "metadata": {},
   "source": [
    "### Confusion matrix"
   ]
  },
  {
   "cell_type": "code",
   "execution_count": 35,
   "id": "certified-spotlight",
   "metadata": {
    "scrolled": true
   },
   "outputs": [
    {
     "data": {
      "text/plain": [
       "<sklearn.metrics._plot.confusion_matrix.ConfusionMatrixDisplay at 0x2718fb2b1c0>"
      ]
     },
     "execution_count": 35,
     "metadata": {},
     "output_type": "execute_result"
    },
    {
     "data": {
      "image/png": "[encoded data removed]",
      "text/plain": [
       "<Figure size 432x288 with 2 Axes>"
      ]
     },
     "metadata": {
      "needs_background": "light"
     },
     "output_type": "display_data"
    }
   ],
   "source": [
    "plot_confusion_matrix(best_model, fingerprints_test, bioactivity_test)"
   ]
  },
  {
   "cell_type": "markdown",
   "id": "diagnostic-modeling",
   "metadata": {},
   "source": [
    "### Saving model to file"
   ]
  },
  {
   "cell_type": "code",
   "execution_count": 37,
   "id": "identical-sense",
   "metadata": {},
   "outputs": [
    {
     "data": {
      "text/plain": [
       "['best_model.sav']"
      ]
     },
     "execution_count": 37,
     "metadata": {},
     "output_type": "execute_result"
    }
   ],
   "source": [
    "joblib.dump(best_model, 'best_model.sav')"
   ]
  }
 ],
 "metadata": {
  "kernelspec": {
   "display_name": "Python 3",
   "language": "python",
   "name": "python3"
  },
  "language_info": {
   "codemirror_mode": {
    "name": "ipython",
    "version": 3
   },
   "file_extension": ".py",
   "mimetype": "text/x-python",
   "name": "python",
   "nbconvert_exporter": "python",
   "pygments_lexer": "ipython3",
   "version": "3.8.3"
  }
 },
 "nbformat": 4,
 "nbformat_minor": 5
}
