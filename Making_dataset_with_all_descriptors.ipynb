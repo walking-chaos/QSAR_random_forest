{
 "cells": [
  {
   "cell_type": "code",
   "execution_count": 30,
   "id": "sudden-moment",
   "metadata": {},
   "outputs": [],
   "source": [
    "import pandas as pd\n",
    "import numpy as np\n",
    "from rdkit import Chem \n",
    "from rdkit.Chem.Crippen import MolMR, MolLogP\n",
    "from rdkit.Chem.Descriptors import MolWt\n",
    "from rdkit.Chem.GraphDescriptors import BalabanJ\n",
    "from rdkit.Chem.GraphDescriptors import BertzCT\n",
    "from rdkit.Chem.rdMolDescriptors import CalcTPSA\n",
    "from rdkit.Chem.rdMolDescriptors import CalcLabuteASA\n",
    "from rdkit.Chem.rdMolDescriptors import CalcNumHBA\n",
    "from rdkit.Chem.rdMolDescriptors import CalcNumHBD"
   ]
  },
  {
   "cell_type": "code",
   "execution_count": 2,
   "id": "affected-collar",
   "metadata": {},
   "outputs": [
    {
     "data": {
      "text/html": [
       "<div>\n",
       "<style scoped>\n",
       "    .dataframe tbody tr th:only-of-type {\n",
       "        vertical-align: middle;\n",
       "    }\n",
       "\n",
       "    .dataframe tbody tr th {\n",
       "        vertical-align: top;\n",
       "    }\n",
       "\n",
       "    .dataframe thead th {\n",
       "        text-align: right;\n",
       "    }\n",
       "</style>\n",
       "<table border=\"1\" class=\"dataframe\">\n",
       "  <thead>\n",
       "    <tr style=\"text-align: right;\">\n",
       "      <th></th>\n",
       "      <th>molecule_chembl_id</th>\n",
       "      <th>Smiles</th>\n",
       "      <th>pIC50</th>\n",
       "      <th>bioactivity_class</th>\n",
       "    </tr>\n",
       "  </thead>\n",
       "  <tbody>\n",
       "    <tr>\n",
       "      <th>0</th>\n",
       "      <td>CHEMBL3404003</td>\n",
       "      <td>COCCCOc1cc(C(=O)N(C[C@@H]2CNC[C@H]2OC(=O)N(C)C...</td>\n",
       "      <td>7.523</td>\n",
       "      <td>1</td>\n",
       "    </tr>\n",
       "    <tr>\n",
       "      <th>1</th>\n",
       "      <td>CHEMBL3403999</td>\n",
       "      <td>COCCCOc1cc(C(=O)N(C[C@@H]2CNC[C@H]2OC(=O)NCc2c...</td>\n",
       "      <td>7.046</td>\n",
       "      <td>1</td>\n",
       "    </tr>\n",
       "    <tr>\n",
       "      <th>2</th>\n",
       "      <td>CHEMBL4109808</td>\n",
       "      <td>COCCCOc1ccc([C@@H](C)N(C(=O)[C@H]2CNCCO2)C2CC2...</td>\n",
       "      <td>7.469</td>\n",
       "      <td>1</td>\n",
       "    </tr>\n",
       "    <tr>\n",
       "      <th>3</th>\n",
       "      <td>CHEMBL557193</td>\n",
       "      <td>CCCCNC(=O)[C@H](C)C[C@H](O)[C@@H](N)C[C@H](Cc1...</td>\n",
       "      <td>9.000</td>\n",
       "      <td>1</td>\n",
       "    </tr>\n",
       "    <tr>\n",
       "      <th>4</th>\n",
       "      <td>CHEMBL4114302</td>\n",
       "      <td>COC(=O)NCCCn1nc([C@@H](C)N(C(=O)[C@H]2CNCCO2)C...</td>\n",
       "      <td>8.444</td>\n",
       "      <td>1</td>\n",
       "    </tr>\n",
       "  </tbody>\n",
       "</table>\n",
       "</div>"
      ],
      "text/plain": [
       "  molecule_chembl_id                                             Smiles  \\\n",
       "0      CHEMBL3404003  COCCCOc1cc(C(=O)N(C[C@@H]2CNC[C@H]2OC(=O)N(C)C...   \n",
       "1      CHEMBL3403999  COCCCOc1cc(C(=O)N(C[C@@H]2CNC[C@H]2OC(=O)NCc2c...   \n",
       "2      CHEMBL4109808  COCCCOc1ccc([C@@H](C)N(C(=O)[C@H]2CNCCO2)C2CC2...   \n",
       "3       CHEMBL557193  CCCCNC(=O)[C@H](C)C[C@H](O)[C@@H](N)C[C@H](Cc1...   \n",
       "4      CHEMBL4114302  COC(=O)NCCCn1nc([C@@H](C)N(C(=O)[C@H]2CNCCO2)C...   \n",
       "\n",
       "   pIC50  bioactivity_class  \n",
       "0  7.523                  1  \n",
       "1  7.046                  1  \n",
       "2  7.469                  1  \n",
       "3  9.000                  1  \n",
       "4  8.444                  1  "
      ]
     },
     "execution_count": 2,
     "metadata": {},
     "output_type": "execute_result"
    }
   ],
   "source": [
    "data_train = pd.read_csv('data_train.csv')\n",
    "data_train.head()"
   ]
  },
  {
   "cell_type": "code",
   "execution_count": 6,
   "id": "olympic-experience",
   "metadata": {},
   "outputs": [],
   "source": [
    "data_train['mol'] = [Chem.MolFromSmiles(i) for i in data_train['Smiles']]"
   ]
  },
  {
   "cell_type": "markdown",
   "id": "anticipated-taxation",
   "metadata": {},
   "source": [
    "# Физико-химические дескрипторы "
   ]
  },
  {
   "cell_type": "code",
   "execution_count": 9,
   "id": "rural-significance",
   "metadata": {},
   "outputs": [],
   "source": [
    "data_train['mr'] = [MolMR(mol) for mol in data_train['mol']]\n",
    "data_train['logp'] = [MolLogP(mol) for mol in data_train['mol']]\n",
    "data_train['mw'] = [MolWt(mol) for mol in data_train['mol']]"
   ]
  },
  {
   "cell_type": "markdown",
   "id": "unknown-university",
   "metadata": {},
   "source": [
    "# Топологические дескрипторы"
   ]
  },
  {
   "cell_type": "code",
   "execution_count": 12,
   "id": "sapphire-accuracy",
   "metadata": {},
   "outputs": [],
   "source": [
    "data_train['balabanJ'] = [BalabanJ(mol) for mol in data_train['mol']]"
   ]
  },
  {
   "cell_type": "code",
   "execution_count": 22,
   "id": "strange-reservation",
   "metadata": {},
   "outputs": [],
   "source": [
    "data_train['bertzCT'] = [BertzCT(mol) for mol in data_train['mol']]"
   ]
  },
  {
   "cell_type": "markdown",
   "id": "psychological-alloy",
   "metadata": {},
   "source": [
    "# Поверхностные дескрипторы"
   ]
  },
  {
   "cell_type": "code",
   "execution_count": 24,
   "id": "capable-shipping",
   "metadata": {},
   "outputs": [],
   "source": [
    "data_train['tpsa'] = [CalcTPSA(mol) for mol in data_train['mol']]"
   ]
  },
  {
   "cell_type": "code",
   "execution_count": 27,
   "id": "local-animation",
   "metadata": {},
   "outputs": [],
   "source": [
    "data_train['labuteASA'] = [CalcLabuteASA(mol) for mol in data_train['mol']]"
   ]
  },
  {
   "cell_type": "markdown",
   "id": "middle-planning",
   "metadata": {},
   "source": [
    "# Структурные дескрипторы"
   ]
  },
  {
   "cell_type": "code",
   "execution_count": 29,
   "id": "textile-leonard",
   "metadata": {},
   "outputs": [],
   "source": [
    "data_train['numHBA'] = [CalcNumHBA(mol) for mol in data_train['mol']]"
   ]
  },
  {
   "cell_type": "code",
   "execution_count": 31,
   "id": "clinical-ideal",
   "metadata": {},
   "outputs": [],
   "source": [
    "data_train['numHBD'] = [CalcNumHBD(mol) for mol in data_train['mol']]"
   ]
  },
  {
   "cell_type": "code",
   "execution_count": 32,
   "id": "fitting-confusion",
   "metadata": {},
   "outputs": [
    {
     "data": {
      "text/html": [
       "<div>\n",
       "<style scoped>\n",
       "    .dataframe tbody tr th:only-of-type {\n",
       "        vertical-align: middle;\n",
       "    }\n",
       "\n",
       "    .dataframe tbody tr th {\n",
       "        vertical-align: top;\n",
       "    }\n",
       "\n",
       "    .dataframe thead th {\n",
       "        text-align: right;\n",
       "    }\n",
       "</style>\n",
       "<table border=\"1\" class=\"dataframe\">\n",
       "  <thead>\n",
       "    <tr style=\"text-align: right;\">\n",
       "      <th></th>\n",
       "      <th>molecule_chembl_id</th>\n",
       "      <th>Smiles</th>\n",
       "      <th>pIC50</th>\n",
       "      <th>bioactivity_class</th>\n",
       "      <th>mol</th>\n",
       "      <th>mr</th>\n",
       "      <th>logp</th>\n",
       "      <th>mw</th>\n",
       "      <th>balabanJ</th>\n",
       "      <th>bertzCT</th>\n",
       "      <th>tpsa</th>\n",
       "      <th>labuteASA</th>\n",
       "      <th>numHBA</th>\n",
       "      <th>numHBD</th>\n",
       "    </tr>\n",
       "  </thead>\n",
       "  <tbody>\n",
       "    <tr>\n",
       "      <th>0</th>\n",
       "      <td>CHEMBL3404003</td>\n",
       "      <td>COCCCOc1cc(C(=O)N(C[C@@H]2CNC[C@H]2OC(=O)N(C)C...</td>\n",
       "      <td>7.523</td>\n",
       "      <td>1</td>\n",
       "      <td>&lt;rdkit.Chem.rdchem.Mol object at 0x000002E58BA...</td>\n",
       "      <td>158.8702</td>\n",
       "      <td>4.4274</td>\n",
       "      <td>584.739</td>\n",
       "      <td>1.387979</td>\n",
       "      <td>1282.128385</td>\n",
       "      <td>102.46</td>\n",
       "      <td>245.075113</td>\n",
       "      <td>9</td>\n",
       "      <td>1</td>\n",
       "    </tr>\n",
       "    <tr>\n",
       "      <th>1</th>\n",
       "      <td>CHEMBL3403999</td>\n",
       "      <td>COCCCOc1cc(C(=O)N(C[C@@H]2CNC[C@H]2OC(=O)NCc2c...</td>\n",
       "      <td>7.046</td>\n",
       "      <td>1</td>\n",
       "      <td>&lt;rdkit.Chem.rdchem.Mol object at 0x000002E58BF...</td>\n",
       "      <td>133.3309</td>\n",
       "      <td>3.0685</td>\n",
       "      <td>503.596</td>\n",
       "      <td>1.632150</td>\n",
       "      <td>964.452342</td>\n",
       "      <td>111.50</td>\n",
       "      <td>211.752852</td>\n",
       "      <td>8</td>\n",
       "      <td>2</td>\n",
       "    </tr>\n",
       "    <tr>\n",
       "      <th>2</th>\n",
       "      <td>CHEMBL4109808</td>\n",
       "      <td>COCCCOc1ccc([C@@H](C)N(C(=O)[C@H]2CNCCO2)C2CC2...</td>\n",
       "      <td>7.469</td>\n",
       "      <td>1</td>\n",
       "      <td>&lt;rdkit.Chem.rdchem.Mol object at 0x000002E58BF...</td>\n",
       "      <td>121.3107</td>\n",
       "      <td>2.5576</td>\n",
       "      <td>450.576</td>\n",
       "      <td>1.732491</td>\n",
       "      <td>705.729893</td>\n",
       "      <td>78.49</td>\n",
       "      <td>191.027643</td>\n",
       "      <td>7</td>\n",
       "      <td>1</td>\n",
       "    </tr>\n",
       "    <tr>\n",
       "      <th>3</th>\n",
       "      <td>CHEMBL557193</td>\n",
       "      <td>CCCCNC(=O)[C@H](C)C[C@H](O)[C@@H](N)C[C@H](Cc1...</td>\n",
       "      <td>9.000</td>\n",
       "      <td>1</td>\n",
       "      <td>&lt;rdkit.Chem.rdchem.Mol object at 0x000002E58BF...</td>\n",
       "      <td>144.5599</td>\n",
       "      <td>4.3678</td>\n",
       "      <td>517.151</td>\n",
       "      <td>0.000012</td>\n",
       "      <td>704.149228</td>\n",
       "      <td>103.04</td>\n",
       "      <td>218.434425</td>\n",
       "      <td>6</td>\n",
       "      <td>3</td>\n",
       "    </tr>\n",
       "    <tr>\n",
       "      <th>4</th>\n",
       "      <td>CHEMBL4114302</td>\n",
       "      <td>COC(=O)NCCCn1nc([C@@H](C)N(C(=O)[C@H]2CNCCO2)C...</td>\n",
       "      <td>8.444</td>\n",
       "      <td>1</td>\n",
       "      <td>&lt;rdkit.Chem.rdchem.Mol object at 0x000002E58BF...</td>\n",
       "      <td>113.4454</td>\n",
       "      <td>1.2178</td>\n",
       "      <td>430.509</td>\n",
       "      <td>1.540630</td>\n",
       "      <td>921.730758</td>\n",
       "      <td>110.61</td>\n",
       "      <td>180.812111</td>\n",
       "      <td>8</td>\n",
       "      <td>2</td>\n",
       "    </tr>\n",
       "  </tbody>\n",
       "</table>\n",
       "</div>"
      ],
      "text/plain": [
       "  molecule_chembl_id                                             Smiles  \\\n",
       "0      CHEMBL3404003  COCCCOc1cc(C(=O)N(C[C@@H]2CNC[C@H]2OC(=O)N(C)C...   \n",
       "1      CHEMBL3403999  COCCCOc1cc(C(=O)N(C[C@@H]2CNC[C@H]2OC(=O)NCc2c...   \n",
       "2      CHEMBL4109808  COCCCOc1ccc([C@@H](C)N(C(=O)[C@H]2CNCCO2)C2CC2...   \n",
       "3       CHEMBL557193  CCCCNC(=O)[C@H](C)C[C@H](O)[C@@H](N)C[C@H](Cc1...   \n",
       "4      CHEMBL4114302  COC(=O)NCCCn1nc([C@@H](C)N(C(=O)[C@H]2CNCCO2)C...   \n",
       "\n",
       "   pIC50  bioactivity_class  \\\n",
       "0  7.523                  1   \n",
       "1  7.046                  1   \n",
       "2  7.469                  1   \n",
       "3  9.000                  1   \n",
       "4  8.444                  1   \n",
       "\n",
       "                                                 mol        mr    logp  \\\n",
       "0  <rdkit.Chem.rdchem.Mol object at 0x000002E58BA...  158.8702  4.4274   \n",
       "1  <rdkit.Chem.rdchem.Mol object at 0x000002E58BF...  133.3309  3.0685   \n",
       "2  <rdkit.Chem.rdchem.Mol object at 0x000002E58BF...  121.3107  2.5576   \n",
       "3  <rdkit.Chem.rdchem.Mol object at 0x000002E58BF...  144.5599  4.3678   \n",
       "4  <rdkit.Chem.rdchem.Mol object at 0x000002E58BF...  113.4454  1.2178   \n",
       "\n",
       "        mw  balabanJ      bertzCT    tpsa   labuteASA  numHBA  numHBD  \n",
       "0  584.739  1.387979  1282.128385  102.46  245.075113       9       1  \n",
       "1  503.596  1.632150   964.452342  111.50  211.752852       8       2  \n",
       "2  450.576  1.732491   705.729893   78.49  191.027643       7       1  \n",
       "3  517.151  0.000012   704.149228  103.04  218.434425       6       3  \n",
       "4  430.509  1.540630   921.730758  110.61  180.812111       8       2  "
      ]
     },
     "execution_count": 32,
     "metadata": {},
     "output_type": "execute_result"
    }
   ],
   "source": [
    "data_train.head()"
   ]
  },
  {
   "cell_type": "code",
   "execution_count": 33,
   "id": "governmental-newark",
   "metadata": {},
   "outputs": [],
   "source": [
    "data_train.to_csv(\"data_descriptors.csv\")"
   ]
  }
 ],
 "metadata": {
  "kernelspec": {
   "display_name": "Python 3",
   "language": "python",
   "name": "python3"
  },
  "language_info": {
   "codemirror_mode": {
    "name": "ipython",
    "version": 3
   },
   "file_extension": ".py",
   "mimetype": "text/x-python",
   "name": "python",
   "nbconvert_exporter": "python",
   "pygments_lexer": "ipython3",
   "version": "3.8.3"
  }
 },
 "nbformat": 4,
 "nbformat_minor": 5
}
